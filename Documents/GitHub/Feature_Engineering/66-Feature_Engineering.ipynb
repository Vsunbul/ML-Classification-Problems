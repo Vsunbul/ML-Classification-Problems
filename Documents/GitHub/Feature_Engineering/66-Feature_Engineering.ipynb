{
 "cells": [
  {
   "cell_type": "markdown",
   "id": "1affe5a2",
   "metadata": {},
   "source": [
    "# Featrue Egineering Excercieses With house.csv dataset"
   ]
  },
  {
   "cell_type": "code",
   "execution_count": 379,
   "id": "c858c60b",
   "metadata": {},
   "outputs": [],
   "source": [
    "import pandas as pd\n",
    "import numpy as np\n",
    "import matplotlib.pyplot  as plt"
   ]
  },
  {
   "cell_type": "code",
   "execution_count": 380,
   "id": "f8c8074a",
   "metadata": {},
   "outputs": [],
   "source": [
    "# Read data.\n",
    "house = pd.read_csv(\"house.csv\", index_col = 0)"
   ]
  },
  {
   "cell_type": "code",
   "execution_count": 381,
   "id": "1c7cbe43",
   "metadata": {},
   "outputs": [
    {
     "data": {
      "text/html": [
       "<div>\n",
       "<style scoped>\n",
       "    .dataframe tbody tr th:only-of-type {\n",
       "        vertical-align: middle;\n",
       "    }\n",
       "\n",
       "    .dataframe tbody tr th {\n",
       "        vertical-align: top;\n",
       "    }\n",
       "\n",
       "    .dataframe thead th {\n",
       "        text-align: right;\n",
       "    }\n",
       "</style>\n",
       "<table border=\"1\" class=\"dataframe\">\n",
       "  <thead>\n",
       "    <tr style=\"text-align: right;\">\n",
       "      <th></th>\n",
       "      <th>MSSubClass</th>\n",
       "      <th>MSZoning</th>\n",
       "      <th>LotFrontage</th>\n",
       "      <th>LotArea</th>\n",
       "      <th>Street</th>\n",
       "      <th>Alley</th>\n",
       "      <th>LotShape</th>\n",
       "      <th>LandContour</th>\n",
       "      <th>Utilities</th>\n",
       "      <th>LotConfig</th>\n",
       "      <th>...</th>\n",
       "      <th>PoolArea</th>\n",
       "      <th>PoolQC</th>\n",
       "      <th>Fence</th>\n",
       "      <th>MiscFeature</th>\n",
       "      <th>MiscVal</th>\n",
       "      <th>MoSold</th>\n",
       "      <th>YrSold</th>\n",
       "      <th>SaleType</th>\n",
       "      <th>SaleCondition</th>\n",
       "      <th>SalePrice</th>\n",
       "    </tr>\n",
       "    <tr>\n",
       "      <th>Id</th>\n",
       "      <th></th>\n",
       "      <th></th>\n",
       "      <th></th>\n",
       "      <th></th>\n",
       "      <th></th>\n",
       "      <th></th>\n",
       "      <th></th>\n",
       "      <th></th>\n",
       "      <th></th>\n",
       "      <th></th>\n",
       "      <th></th>\n",
       "      <th></th>\n",
       "      <th></th>\n",
       "      <th></th>\n",
       "      <th></th>\n",
       "      <th></th>\n",
       "      <th></th>\n",
       "      <th></th>\n",
       "      <th></th>\n",
       "      <th></th>\n",
       "      <th></th>\n",
       "    </tr>\n",
       "  </thead>\n",
       "  <tbody>\n",
       "    <tr>\n",
       "      <th>1</th>\n",
       "      <td>60</td>\n",
       "      <td>RL</td>\n",
       "      <td>65.0</td>\n",
       "      <td>8450</td>\n",
       "      <td>Pave</td>\n",
       "      <td>NaN</td>\n",
       "      <td>Reg</td>\n",
       "      <td>Lvl</td>\n",
       "      <td>AllPub</td>\n",
       "      <td>Inside</td>\n",
       "      <td>...</td>\n",
       "      <td>0</td>\n",
       "      <td>NaN</td>\n",
       "      <td>NaN</td>\n",
       "      <td>NaN</td>\n",
       "      <td>0</td>\n",
       "      <td>2</td>\n",
       "      <td>2008</td>\n",
       "      <td>WD</td>\n",
       "      <td>Normal</td>\n",
       "      <td>208500</td>\n",
       "    </tr>\n",
       "    <tr>\n",
       "      <th>2</th>\n",
       "      <td>20</td>\n",
       "      <td>RL</td>\n",
       "      <td>80.0</td>\n",
       "      <td>9600</td>\n",
       "      <td>Pave</td>\n",
       "      <td>NaN</td>\n",
       "      <td>Reg</td>\n",
       "      <td>Lvl</td>\n",
       "      <td>AllPub</td>\n",
       "      <td>FR2</td>\n",
       "      <td>...</td>\n",
       "      <td>0</td>\n",
       "      <td>NaN</td>\n",
       "      <td>NaN</td>\n",
       "      <td>NaN</td>\n",
       "      <td>0</td>\n",
       "      <td>5</td>\n",
       "      <td>2007</td>\n",
       "      <td>WD</td>\n",
       "      <td>Normal</td>\n",
       "      <td>181500</td>\n",
       "    </tr>\n",
       "    <tr>\n",
       "      <th>3</th>\n",
       "      <td>60</td>\n",
       "      <td>RL</td>\n",
       "      <td>68.0</td>\n",
       "      <td>11250</td>\n",
       "      <td>Pave</td>\n",
       "      <td>NaN</td>\n",
       "      <td>IR1</td>\n",
       "      <td>Lvl</td>\n",
       "      <td>AllPub</td>\n",
       "      <td>Inside</td>\n",
       "      <td>...</td>\n",
       "      <td>0</td>\n",
       "      <td>NaN</td>\n",
       "      <td>NaN</td>\n",
       "      <td>NaN</td>\n",
       "      <td>0</td>\n",
       "      <td>9</td>\n",
       "      <td>2008</td>\n",
       "      <td>WD</td>\n",
       "      <td>Normal</td>\n",
       "      <td>223500</td>\n",
       "    </tr>\n",
       "    <tr>\n",
       "      <th>4</th>\n",
       "      <td>70</td>\n",
       "      <td>RL</td>\n",
       "      <td>60.0</td>\n",
       "      <td>9550</td>\n",
       "      <td>Pave</td>\n",
       "      <td>NaN</td>\n",
       "      <td>IR1</td>\n",
       "      <td>Lvl</td>\n",
       "      <td>AllPub</td>\n",
       "      <td>Corner</td>\n",
       "      <td>...</td>\n",
       "      <td>0</td>\n",
       "      <td>NaN</td>\n",
       "      <td>NaN</td>\n",
       "      <td>NaN</td>\n",
       "      <td>0</td>\n",
       "      <td>2</td>\n",
       "      <td>2006</td>\n",
       "      <td>WD</td>\n",
       "      <td>Abnorml</td>\n",
       "      <td>140000</td>\n",
       "    </tr>\n",
       "    <tr>\n",
       "      <th>5</th>\n",
       "      <td>60</td>\n",
       "      <td>RL</td>\n",
       "      <td>84.0</td>\n",
       "      <td>14260</td>\n",
       "      <td>Pave</td>\n",
       "      <td>NaN</td>\n",
       "      <td>IR1</td>\n",
       "      <td>Lvl</td>\n",
       "      <td>AllPub</td>\n",
       "      <td>FR2</td>\n",
       "      <td>...</td>\n",
       "      <td>0</td>\n",
       "      <td>NaN</td>\n",
       "      <td>NaN</td>\n",
       "      <td>NaN</td>\n",
       "      <td>0</td>\n",
       "      <td>12</td>\n",
       "      <td>2008</td>\n",
       "      <td>WD</td>\n",
       "      <td>Normal</td>\n",
       "      <td>250000</td>\n",
       "    </tr>\n",
       "  </tbody>\n",
       "</table>\n",
       "<p>5 rows × 80 columns</p>\n",
       "</div>"
      ],
      "text/plain": [
       "    MSSubClass MSZoning  LotFrontage  LotArea Street Alley LotShape  \\\n",
       "Id                                                                    \n",
       "1           60       RL         65.0     8450   Pave   NaN      Reg   \n",
       "2           20       RL         80.0     9600   Pave   NaN      Reg   \n",
       "3           60       RL         68.0    11250   Pave   NaN      IR1   \n",
       "4           70       RL         60.0     9550   Pave   NaN      IR1   \n",
       "5           60       RL         84.0    14260   Pave   NaN      IR1   \n",
       "\n",
       "   LandContour Utilities LotConfig  ... PoolArea PoolQC Fence MiscFeature  \\\n",
       "Id                                  ...                                     \n",
       "1          Lvl    AllPub    Inside  ...        0    NaN   NaN         NaN   \n",
       "2          Lvl    AllPub       FR2  ...        0    NaN   NaN         NaN   \n",
       "3          Lvl    AllPub    Inside  ...        0    NaN   NaN         NaN   \n",
       "4          Lvl    AllPub    Corner  ...        0    NaN   NaN         NaN   \n",
       "5          Lvl    AllPub       FR2  ...        0    NaN   NaN         NaN   \n",
       "\n",
       "   MiscVal MoSold  YrSold  SaleType  SaleCondition  SalePrice  \n",
       "Id                                                             \n",
       "1        0      2    2008        WD         Normal     208500  \n",
       "2        0      5    2007        WD         Normal     181500  \n",
       "3        0      9    2008        WD         Normal     223500  \n",
       "4        0      2    2006        WD        Abnorml     140000  \n",
       "5        0     12    2008        WD         Normal     250000  \n",
       "\n",
       "[5 rows x 80 columns]"
      ]
     },
     "execution_count": 381,
     "metadata": {},
     "output_type": "execute_result"
    }
   ],
   "source": [
    "# Let's see data.\n",
    "hause.head()"
   ]
  },
  {
   "cell_type": "code",
   "execution_count": 382,
   "id": "64d12527",
   "metadata": {},
   "outputs": [
    {
     "data": {
      "text/plain": [
       "MSSubClass         int64\n",
       "MSZoning          object\n",
       "LotFrontage      float64\n",
       "LotArea            int64\n",
       "Street            object\n",
       "                  ...   \n",
       "MoSold             int64\n",
       "YrSold             int64\n",
       "SaleType          object\n",
       "SaleCondition     object\n",
       "SalePrice          int64\n",
       "Length: 80, dtype: object"
      ]
     },
     "execution_count": 382,
     "metadata": {},
     "output_type": "execute_result"
    }
   ],
   "source": [
    "# Let's examine the object types.\n",
    "\n",
    "house.dtypes"
   ]
  },
  {
   "cell_type": "code",
   "execution_count": 383,
   "id": "a490666a",
   "metadata": {},
   "outputs": [],
   "source": [
    "# When we look at the explanations, MSSubClass column must be of object type.\n",
    "\n",
    "house.MSSubClass = house.MSSubClass.astype(\"str\")"
   ]
  },
  {
   "cell_type": "code",
   "execution_count": 384,
   "id": "8297738f",
   "metadata": {},
   "outputs": [
    {
     "data": {
      "text/plain": [
       "MSSubClass        object\n",
       "MSZoning          object\n",
       "LotFrontage      float64\n",
       "LotArea            int64\n",
       "Street            object\n",
       "                  ...   \n",
       "MoSold             int64\n",
       "YrSold             int64\n",
       "SaleType          object\n",
       "SaleCondition     object\n",
       "SalePrice          int64\n",
       "Length: 80, dtype: object"
      ]
     },
     "execution_count": 384,
     "metadata": {},
     "output_type": "execute_result"
    }
   ],
   "source": [
    "house.dtypes"
   ]
  },
  {
   "cell_type": "code",
   "execution_count": 385,
   "id": "ecfaa54f",
   "metadata": {},
   "outputs": [
    {
     "data": {
      "text/html": [
       "<div>\n",
       "<style scoped>\n",
       "    .dataframe tbody tr th:only-of-type {\n",
       "        vertical-align: middle;\n",
       "    }\n",
       "\n",
       "    .dataframe tbody tr th {\n",
       "        vertical-align: top;\n",
       "    }\n",
       "\n",
       "    .dataframe thead th {\n",
       "        text-align: right;\n",
       "    }\n",
       "</style>\n",
       "<table border=\"1\" class=\"dataframe\">\n",
       "  <thead>\n",
       "    <tr style=\"text-align: right;\">\n",
       "      <th></th>\n",
       "      <th>MSSubClass</th>\n",
       "      <th>MSZoning</th>\n",
       "      <th>LotFrontage</th>\n",
       "      <th>LotArea</th>\n",
       "      <th>Street</th>\n",
       "      <th>Alley</th>\n",
       "      <th>LotShape</th>\n",
       "      <th>LandContour</th>\n",
       "      <th>Utilities</th>\n",
       "      <th>LotConfig</th>\n",
       "      <th>...</th>\n",
       "      <th>PoolArea</th>\n",
       "      <th>PoolQC</th>\n",
       "      <th>Fence</th>\n",
       "      <th>MiscFeature</th>\n",
       "      <th>MiscVal</th>\n",
       "      <th>MoSold</th>\n",
       "      <th>YrSold</th>\n",
       "      <th>SaleType</th>\n",
       "      <th>SaleCondition</th>\n",
       "      <th>SalePrice</th>\n",
       "    </tr>\n",
       "    <tr>\n",
       "      <th>Id</th>\n",
       "      <th></th>\n",
       "      <th></th>\n",
       "      <th></th>\n",
       "      <th></th>\n",
       "      <th></th>\n",
       "      <th></th>\n",
       "      <th></th>\n",
       "      <th></th>\n",
       "      <th></th>\n",
       "      <th></th>\n",
       "      <th></th>\n",
       "      <th></th>\n",
       "      <th></th>\n",
       "      <th></th>\n",
       "      <th></th>\n",
       "      <th></th>\n",
       "      <th></th>\n",
       "      <th></th>\n",
       "      <th></th>\n",
       "      <th></th>\n",
       "      <th></th>\n",
       "    </tr>\n",
       "  </thead>\n",
       "  <tbody>\n",
       "    <tr>\n",
       "      <th>1</th>\n",
       "      <td>False</td>\n",
       "      <td>False</td>\n",
       "      <td>False</td>\n",
       "      <td>False</td>\n",
       "      <td>False</td>\n",
       "      <td>True</td>\n",
       "      <td>False</td>\n",
       "      <td>False</td>\n",
       "      <td>False</td>\n",
       "      <td>False</td>\n",
       "      <td>...</td>\n",
       "      <td>False</td>\n",
       "      <td>True</td>\n",
       "      <td>True</td>\n",
       "      <td>True</td>\n",
       "      <td>False</td>\n",
       "      <td>False</td>\n",
       "      <td>False</td>\n",
       "      <td>False</td>\n",
       "      <td>False</td>\n",
       "      <td>False</td>\n",
       "    </tr>\n",
       "    <tr>\n",
       "      <th>2</th>\n",
       "      <td>False</td>\n",
       "      <td>False</td>\n",
       "      <td>False</td>\n",
       "      <td>False</td>\n",
       "      <td>False</td>\n",
       "      <td>True</td>\n",
       "      <td>False</td>\n",
       "      <td>False</td>\n",
       "      <td>False</td>\n",
       "      <td>False</td>\n",
       "      <td>...</td>\n",
       "      <td>False</td>\n",
       "      <td>True</td>\n",
       "      <td>True</td>\n",
       "      <td>True</td>\n",
       "      <td>False</td>\n",
       "      <td>False</td>\n",
       "      <td>False</td>\n",
       "      <td>False</td>\n",
       "      <td>False</td>\n",
       "      <td>False</td>\n",
       "    </tr>\n",
       "    <tr>\n",
       "      <th>3</th>\n",
       "      <td>False</td>\n",
       "      <td>False</td>\n",
       "      <td>False</td>\n",
       "      <td>False</td>\n",
       "      <td>False</td>\n",
       "      <td>True</td>\n",
       "      <td>False</td>\n",
       "      <td>False</td>\n",
       "      <td>False</td>\n",
       "      <td>False</td>\n",
       "      <td>...</td>\n",
       "      <td>False</td>\n",
       "      <td>True</td>\n",
       "      <td>True</td>\n",
       "      <td>True</td>\n",
       "      <td>False</td>\n",
       "      <td>False</td>\n",
       "      <td>False</td>\n",
       "      <td>False</td>\n",
       "      <td>False</td>\n",
       "      <td>False</td>\n",
       "    </tr>\n",
       "    <tr>\n",
       "      <th>4</th>\n",
       "      <td>False</td>\n",
       "      <td>False</td>\n",
       "      <td>False</td>\n",
       "      <td>False</td>\n",
       "      <td>False</td>\n",
       "      <td>True</td>\n",
       "      <td>False</td>\n",
       "      <td>False</td>\n",
       "      <td>False</td>\n",
       "      <td>False</td>\n",
       "      <td>...</td>\n",
       "      <td>False</td>\n",
       "      <td>True</td>\n",
       "      <td>True</td>\n",
       "      <td>True</td>\n",
       "      <td>False</td>\n",
       "      <td>False</td>\n",
       "      <td>False</td>\n",
       "      <td>False</td>\n",
       "      <td>False</td>\n",
       "      <td>False</td>\n",
       "    </tr>\n",
       "    <tr>\n",
       "      <th>5</th>\n",
       "      <td>False</td>\n",
       "      <td>False</td>\n",
       "      <td>False</td>\n",
       "      <td>False</td>\n",
       "      <td>False</td>\n",
       "      <td>True</td>\n",
       "      <td>False</td>\n",
       "      <td>False</td>\n",
       "      <td>False</td>\n",
       "      <td>False</td>\n",
       "      <td>...</td>\n",
       "      <td>False</td>\n",
       "      <td>True</td>\n",
       "      <td>True</td>\n",
       "      <td>True</td>\n",
       "      <td>False</td>\n",
       "      <td>False</td>\n",
       "      <td>False</td>\n",
       "      <td>False</td>\n",
       "      <td>False</td>\n",
       "      <td>False</td>\n",
       "    </tr>\n",
       "    <tr>\n",
       "      <th>...</th>\n",
       "      <td>...</td>\n",
       "      <td>...</td>\n",
       "      <td>...</td>\n",
       "      <td>...</td>\n",
       "      <td>...</td>\n",
       "      <td>...</td>\n",
       "      <td>...</td>\n",
       "      <td>...</td>\n",
       "      <td>...</td>\n",
       "      <td>...</td>\n",
       "      <td>...</td>\n",
       "      <td>...</td>\n",
       "      <td>...</td>\n",
       "      <td>...</td>\n",
       "      <td>...</td>\n",
       "      <td>...</td>\n",
       "      <td>...</td>\n",
       "      <td>...</td>\n",
       "      <td>...</td>\n",
       "      <td>...</td>\n",
       "      <td>...</td>\n",
       "    </tr>\n",
       "    <tr>\n",
       "      <th>1456</th>\n",
       "      <td>False</td>\n",
       "      <td>False</td>\n",
       "      <td>False</td>\n",
       "      <td>False</td>\n",
       "      <td>False</td>\n",
       "      <td>True</td>\n",
       "      <td>False</td>\n",
       "      <td>False</td>\n",
       "      <td>False</td>\n",
       "      <td>False</td>\n",
       "      <td>...</td>\n",
       "      <td>False</td>\n",
       "      <td>True</td>\n",
       "      <td>True</td>\n",
       "      <td>True</td>\n",
       "      <td>False</td>\n",
       "      <td>False</td>\n",
       "      <td>False</td>\n",
       "      <td>False</td>\n",
       "      <td>False</td>\n",
       "      <td>False</td>\n",
       "    </tr>\n",
       "    <tr>\n",
       "      <th>1457</th>\n",
       "      <td>False</td>\n",
       "      <td>False</td>\n",
       "      <td>False</td>\n",
       "      <td>False</td>\n",
       "      <td>False</td>\n",
       "      <td>True</td>\n",
       "      <td>False</td>\n",
       "      <td>False</td>\n",
       "      <td>False</td>\n",
       "      <td>False</td>\n",
       "      <td>...</td>\n",
       "      <td>False</td>\n",
       "      <td>True</td>\n",
       "      <td>False</td>\n",
       "      <td>True</td>\n",
       "      <td>False</td>\n",
       "      <td>False</td>\n",
       "      <td>False</td>\n",
       "      <td>False</td>\n",
       "      <td>False</td>\n",
       "      <td>False</td>\n",
       "    </tr>\n",
       "    <tr>\n",
       "      <th>1458</th>\n",
       "      <td>False</td>\n",
       "      <td>False</td>\n",
       "      <td>False</td>\n",
       "      <td>False</td>\n",
       "      <td>False</td>\n",
       "      <td>True</td>\n",
       "      <td>False</td>\n",
       "      <td>False</td>\n",
       "      <td>False</td>\n",
       "      <td>False</td>\n",
       "      <td>...</td>\n",
       "      <td>False</td>\n",
       "      <td>True</td>\n",
       "      <td>False</td>\n",
       "      <td>False</td>\n",
       "      <td>False</td>\n",
       "      <td>False</td>\n",
       "      <td>False</td>\n",
       "      <td>False</td>\n",
       "      <td>False</td>\n",
       "      <td>False</td>\n",
       "    </tr>\n",
       "    <tr>\n",
       "      <th>1459</th>\n",
       "      <td>False</td>\n",
       "      <td>False</td>\n",
       "      <td>False</td>\n",
       "      <td>False</td>\n",
       "      <td>False</td>\n",
       "      <td>True</td>\n",
       "      <td>False</td>\n",
       "      <td>False</td>\n",
       "      <td>False</td>\n",
       "      <td>False</td>\n",
       "      <td>...</td>\n",
       "      <td>False</td>\n",
       "      <td>True</td>\n",
       "      <td>True</td>\n",
       "      <td>True</td>\n",
       "      <td>False</td>\n",
       "      <td>False</td>\n",
       "      <td>False</td>\n",
       "      <td>False</td>\n",
       "      <td>False</td>\n",
       "      <td>False</td>\n",
       "    </tr>\n",
       "    <tr>\n",
       "      <th>1460</th>\n",
       "      <td>False</td>\n",
       "      <td>False</td>\n",
       "      <td>False</td>\n",
       "      <td>False</td>\n",
       "      <td>False</td>\n",
       "      <td>True</td>\n",
       "      <td>False</td>\n",
       "      <td>False</td>\n",
       "      <td>False</td>\n",
       "      <td>False</td>\n",
       "      <td>...</td>\n",
       "      <td>False</td>\n",
       "      <td>True</td>\n",
       "      <td>True</td>\n",
       "      <td>True</td>\n",
       "      <td>False</td>\n",
       "      <td>False</td>\n",
       "      <td>False</td>\n",
       "      <td>False</td>\n",
       "      <td>False</td>\n",
       "      <td>False</td>\n",
       "    </tr>\n",
       "  </tbody>\n",
       "</table>\n",
       "<p>1460 rows × 80 columns</p>\n",
       "</div>"
      ],
      "text/plain": [
       "      MSSubClass  MSZoning  LotFrontage  LotArea  Street  Alley  LotShape  \\\n",
       "Id                                                                          \n",
       "1          False     False        False    False   False   True     False   \n",
       "2          False     False        False    False   False   True     False   \n",
       "3          False     False        False    False   False   True     False   \n",
       "4          False     False        False    False   False   True     False   \n",
       "5          False     False        False    False   False   True     False   \n",
       "...          ...       ...          ...      ...     ...    ...       ...   \n",
       "1456       False     False        False    False   False   True     False   \n",
       "1457       False     False        False    False   False   True     False   \n",
       "1458       False     False        False    False   False   True     False   \n",
       "1459       False     False        False    False   False   True     False   \n",
       "1460       False     False        False    False   False   True     False   \n",
       "\n",
       "      LandContour  Utilities  LotConfig  ...  PoolArea  PoolQC  Fence  \\\n",
       "Id                                       ...                            \n",
       "1           False      False      False  ...     False    True   True   \n",
       "2           False      False      False  ...     False    True   True   \n",
       "3           False      False      False  ...     False    True   True   \n",
       "4           False      False      False  ...     False    True   True   \n",
       "5           False      False      False  ...     False    True   True   \n",
       "...           ...        ...        ...  ...       ...     ...    ...   \n",
       "1456        False      False      False  ...     False    True   True   \n",
       "1457        False      False      False  ...     False    True  False   \n",
       "1458        False      False      False  ...     False    True  False   \n",
       "1459        False      False      False  ...     False    True   True   \n",
       "1460        False      False      False  ...     False    True   True   \n",
       "\n",
       "      MiscFeature  MiscVal  MoSold  YrSold  SaleType  SaleCondition  SalePrice  \n",
       "Id                                                                              \n",
       "1            True    False   False   False     False          False      False  \n",
       "2            True    False   False   False     False          False      False  \n",
       "3            True    False   False   False     False          False      False  \n",
       "4            True    False   False   False     False          False      False  \n",
       "5            True    False   False   False     False          False      False  \n",
       "...           ...      ...     ...     ...       ...            ...        ...  \n",
       "1456         True    False   False   False     False          False      False  \n",
       "1457         True    False   False   False     False          False      False  \n",
       "1458        False    False   False   False     False          False      False  \n",
       "1459         True    False   False   False     False          False      False  \n",
       "1460         True    False   False   False     False          False      False  \n",
       "\n",
       "[1460 rows x 80 columns]"
      ]
     },
     "execution_count": 385,
     "metadata": {},
     "output_type": "execute_result"
    }
   ],
   "source": [
    "#Let's check for null expressions in the data set.\n",
    "\n",
    "house.isnull()"
   ]
  },
  {
   "cell_type": "code",
   "execution_count": 386,
   "id": "c8901de8",
   "metadata": {},
   "outputs": [
    {
     "data": {
      "text/plain": [
       "7829"
      ]
     },
     "execution_count": 386,
     "metadata": {},
     "output_type": "execute_result"
    }
   ],
   "source": [
    "# Let's check the number of null values in the data set.\n",
    "\n",
    "house.isnull().sum().sum()"
   ]
  },
  {
   "cell_type": "code",
   "execution_count": 387,
   "id": "cb43477a",
   "metadata": {},
   "outputs": [
    {
     "data": {
      "text/plain": [
       "MSSubClass       0.000000\n",
       "MSZoning         0.000000\n",
       "LotFrontage      0.177397\n",
       "LotArea          0.000000\n",
       "Street           0.000000\n",
       "                   ...   \n",
       "MoSold           0.000000\n",
       "YrSold           0.000000\n",
       "SaleType         0.000000\n",
       "SaleCondition    0.000000\n",
       "SalePrice        0.000000\n",
       "Length: 80, dtype: float64"
      ]
     },
     "execution_count": 387,
     "metadata": {},
     "output_type": "execute_result"
    }
   ],
   "source": [
    "# Let's find the percentage of missing data in the columns.\n",
    "\n",
    "missing_percent = house.isnull().mean()\n",
    "missing_percent"
   ]
  },
  {
   "cell_type": "code",
   "execution_count": 388,
   "id": "e21e636c",
   "metadata": {},
   "outputs": [
    {
     "data": {
      "text/plain": [
       "Index(['LotFrontage', 'Alley', 'MasVnrType', 'FireplaceQu', 'PoolQC', 'Fence',\n",
       "       'MiscFeature'],\n",
       "      dtype='object')"
      ]
     },
     "execution_count": 388,
     "metadata": {},
     "output_type": "execute_result"
    }
   ],
   "source": [
    "# Return missing data more than 0.1\n",
    "\n",
    "drop_cols = missing_percent[missing_percent > 0.1].index\n",
    "drop_cols"
   ]
  },
  {
   "cell_type": "code",
   "execution_count": 389,
   "id": "8ba24407",
   "metadata": {},
   "outputs": [],
   "source": [
    "# Let's delete columns with more than 10% missing data.\n",
    "\n",
    "df_drop_cols = house.drop(drop_cols, axis = 1)"
   ]
  },
  {
   "cell_type": "code",
   "execution_count": 390,
   "id": "2d9be9ee",
   "metadata": {},
   "outputs": [
    {
     "data": {
      "text/plain": [
       "(1460, 73)"
      ]
     },
     "execution_count": 390,
     "metadata": {},
     "output_type": "execute_result"
    }
   ],
   "source": [
    "# let's see the shape\n",
    "df_drop_cols.shape"
   ]
  },
  {
   "cell_type": "code",
   "execution_count": 391,
   "id": "c3cc21df",
   "metadata": {},
   "outputs": [
    {
     "data": {
      "text/plain": [
       "601"
      ]
     },
     "execution_count": 391,
     "metadata": {},
     "output_type": "execute_result"
    }
   ],
   "source": [
    "# We check again if there is a null value.\n",
    "df_drop_cols.isnull().sum().sum()"
   ]
  },
  {
   "cell_type": "code",
   "execution_count": 392,
   "id": "d6e63fbf",
   "metadata": {},
   "outputs": [],
   "source": [
    "# We delete the Na datas from the file.\n",
    "\n",
    "df_without_na = df_drop_cols.dropna()"
   ]
  },
  {
   "cell_type": "code",
   "execution_count": 393,
   "id": "8aaf979f",
   "metadata": {},
   "outputs": [
    {
     "data": {
      "text/plain": [
       "(1338, 73)"
      ]
     },
     "execution_count": 393,
     "metadata": {},
     "output_type": "execute_result"
    }
   ],
   "source": [
    "# let's see the shape\n",
    "\n",
    "df_without_na.shape"
   ]
  },
  {
   "cell_type": "code",
   "execution_count": 394,
   "id": "7432fc0d",
   "metadata": {},
   "outputs": [
    {
     "data": {
      "text/plain": [
       "0"
      ]
     },
     "execution_count": 394,
     "metadata": {},
     "output_type": "execute_result"
    }
   ],
   "source": [
    "# We check again if there is a null value. \n",
    "\n",
    "df_without_na.isnull().sum().sum()"
   ]
  },
  {
   "cell_type": "code",
   "execution_count": 395,
   "id": "5be1cd9c",
   "metadata": {},
   "outputs": [],
   "source": [
    "# Machine learning models prefer to process numerical data.\n",
    "# We use the get_dummies() function to convert categorical variables to numeric data.\n",
    "\n",
    "df_without_na_dummy = pd.get_dummies(df_without_na, drop_first = True)"
   ]
  },
  {
   "cell_type": "code",
   "execution_count": 396,
   "id": "09337564",
   "metadata": {},
   "outputs": [
    {
     "data": {
      "text/plain": [
       "(1338, 237)"
      ]
     },
     "execution_count": 396,
     "metadata": {},
     "output_type": "execute_result"
    }
   ],
   "source": [
    "# let's examine data shape.\n",
    "\n",
    "df_without_na_dummy.shape"
   ]
  },
  {
   "cell_type": "code",
   "execution_count": 397,
   "id": "531d1aa8",
   "metadata": {},
   "outputs": [
    {
     "data": {
      "text/html": [
       "<div>\n",
       "<style scoped>\n",
       "    .dataframe tbody tr th:only-of-type {\n",
       "        vertical-align: middle;\n",
       "    }\n",
       "\n",
       "    .dataframe tbody tr th {\n",
       "        vertical-align: top;\n",
       "    }\n",
       "\n",
       "    .dataframe thead th {\n",
       "        text-align: right;\n",
       "    }\n",
       "</style>\n",
       "<table border=\"1\" class=\"dataframe\">\n",
       "  <thead>\n",
       "    <tr style=\"text-align: right;\">\n",
       "      <th></th>\n",
       "      <th>r2 mean</th>\n",
       "      <th>r2 std</th>\n",
       "      <th>r2 test</th>\n",
       "    </tr>\n",
       "  </thead>\n",
       "  <tbody>\n",
       "    <tr>\n",
       "      <th>Without NA</th>\n",
       "      <td>0.548538</td>\n",
       "      <td>0.568624</td>\n",
       "      <td>0.373218</td>\n",
       "    </tr>\n",
       "  </tbody>\n",
       "</table>\n",
       "</div>"
      ],
      "text/plain": [
       "             r2 mean    r2 std   r2 test\n",
       "Without NA  0.548538  0.568624  0.373218"
      ]
     },
     "execution_count": 397,
     "metadata": {},
     "output_type": "execute_result"
    }
   ],
   "source": [
    "# To use the LinearRegression model.\n",
    "from sklearn.linear_model import LinearRegression\n",
    "\n",
    "# To look at the r2 score.\n",
    "from sklearn.metrics import r2_score\n",
    "\n",
    "# To do train_test_split.\n",
    "from sklearn.model_selection import train_test_split, cross_val_score\n",
    "\n",
    "# We determine the dependent and independent variables.\n",
    "X = df_without_na_dummy.drop(\"SalePrice\", axis = 1)\n",
    "y = df_without_na_dummy[\"SalePrice\"]\n",
    "\n",
    "\n",
    "# We determine the ratio of train and test data.\n",
    "X_train, X_test, y_train, y_test = train_test_split(X, y, test_size = 0.2, random_state = 42)\n",
    "scores = cross_val_score(mdl, X_train, y_train, cv = 10)\n",
    "\n",
    "mdl = LinearRegression()\n",
    "mdl.fit(X_train, y_train)\n",
    "ypred = mdl.predict(X_test)\n",
    "\n",
    "results = pd.DataFrame([], columns = [\"r2 mean\", \"r2 std\", \"r2 test\"])\n",
    "\n",
    "results.loc[\"Without NA\"] = [scores.mean(), scores.std(), r2_score(y_test, ypred)]\n",
    "results\n",
    "\n"
   ]
  },
  {
   "cell_type": "code",
   "execution_count": 398,
   "id": "633fa93b",
   "metadata": {},
   "outputs": [],
   "source": [
    "missing_percent = df_drop_cols.isnull().mean()\n"
   ]
  },
  {
   "cell_type": "code",
   "execution_count": 399,
   "id": "58f8802a",
   "metadata": {},
   "outputs": [
    {
     "data": {
      "text/plain": [
       "Series([], dtype: float64)"
      ]
     },
     "execution_count": 399,
     "metadata": {},
     "output_type": "execute_result"
    }
   ],
   "source": [
    "missing_percent[missing_percent > 0.1]"
   ]
  },
  {
   "cell_type": "code",
   "execution_count": 400,
   "id": "40a68bb1",
   "metadata": {},
   "outputs": [],
   "source": [
    "# When we examine the explanations, we see that the empty values\n",
    "# actually indicate that there is no such feature.\n",
    "df_drop_cols.MasVnrArea = df_drop_cols.MasVnrArea.fillna(0)\n",
    "df_drop_cols.BsmtQual = df_drop_cols.BsmtQual.fillna(\"None\")\n",
    "df_drop_cols.BsmtCond = df_drop_cols.BsmtCond.fillna(\"None\")\n",
    "df_drop_cols.BsmtExposure = df_drop_cols.BsmtExposure.fillna(\"None\")\n",
    "df_drop_cols.BsmtFinType1 = df_drop_cols.BsmtFinType1.fillna(\"None\")\n",
    "df_drop_cols.BsmtFinType2 = df_drop_cols.BsmtFinType2.fillna(\"None\")\n",
    "df_drop_cols.Electrical = df_drop_cols.Electrical.fillna(\"None\")\n",
    "df_drop_cols.GarageType = df_drop_cols.GarageType.fillna(\"None\")\n",
    "df_drop_cols.GarageYrBlt = df_drop_cols.GarageYrBlt.fillna(0)\n",
    "df_drop_cols.GarageFinish = df_drop_cols.GarageFinish.fillna(\"None\")\n",
    "df_drop_cols.GarageQual = df_drop_cols.GarageQual.fillna(\"None\")\n",
    "df_drop_cols.GarageCond = df_drop_cols.GarageCond.fillna(\"None\")"
   ]
  },
  {
   "cell_type": "code",
   "execution_count": 401,
   "id": "5f0e1a22",
   "metadata": {},
   "outputs": [
    {
     "name": "stdout",
     "output_type": "stream",
     "text": [
      "(1460, 252)\n"
     ]
    },
    {
     "data": {
      "text/html": [
       "<div>\n",
       "<style scoped>\n",
       "    .dataframe tbody tr th:only-of-type {\n",
       "        vertical-align: middle;\n",
       "    }\n",
       "\n",
       "    .dataframe tbody tr th {\n",
       "        vertical-align: top;\n",
       "    }\n",
       "\n",
       "    .dataframe thead th {\n",
       "        text-align: right;\n",
       "    }\n",
       "</style>\n",
       "<table border=\"1\" class=\"dataframe\">\n",
       "  <thead>\n",
       "    <tr style=\"text-align: right;\">\n",
       "      <th></th>\n",
       "      <th>r2 mean</th>\n",
       "      <th>r2 std</th>\n",
       "      <th>r2 test</th>\n",
       "    </tr>\n",
       "  </thead>\n",
       "  <tbody>\n",
       "    <tr>\n",
       "      <th>Without NA</th>\n",
       "      <td>0.548538</td>\n",
       "      <td>0.568624</td>\n",
       "      <td>0.373218</td>\n",
       "    </tr>\n",
       "    <tr>\n",
       "      <th>Fill None</th>\n",
       "      <td>0.591975</td>\n",
       "      <td>0.416633</td>\n",
       "      <td>0.642582</td>\n",
       "    </tr>\n",
       "  </tbody>\n",
       "</table>\n",
       "</div>"
      ],
      "text/plain": [
       "             r2 mean    r2 std   r2 test\n",
       "Without NA  0.548538  0.568624  0.373218\n",
       "Fill None   0.591975  0.416633  0.642582"
      ]
     },
     "execution_count": 401,
     "metadata": {},
     "output_type": "execute_result"
    }
   ],
   "source": [
    "# Rebuild the model.\n",
    "\n",
    "df_drop_cols_dummy = pd.get_dummies(df_drop_cols, drop_first = True)\n",
    "print(df_drop_cols_dummy.shape)\n",
    "\n",
    "X = df_drop_cols_dummy.drop(\"SalePrice\", axis = 1)\n",
    "y = df_drop_cols_dummy[\"SalePrice\"]\n",
    "\n",
    "X_train, X_test, y_train, y_test = train_test_split(X, y, test_size = 0.2, \n",
    "                                                    random_state = 42)\n",
    "\n",
    "scores = cross_val_score(mdl, X_train, y_train, cv = 10)\n",
    "mdl = LinearRegression()\n",
    "\n",
    "mdl.fit(X_train, y_train)\n",
    "ypred = mdl.predict(X_test)\n",
    "results.loc[\"Fill None\"] = [scores.mean(), scores.std(), r2_score(y_test, ypred)]\n",
    "results\n"
   ]
  },
  {
   "cell_type": "code",
   "execution_count": 402,
   "id": "361e5ab9",
   "metadata": {},
   "outputs": [],
   "source": [
    "# Continue the analysis by copying the data\n",
    "\n",
    "df_new = df_drop_cols.copy()"
   ]
  },
  {
   "cell_type": "code",
   "execution_count": null,
   "id": "882ea8b5",
   "metadata": {},
   "outputs": [],
   "source": []
  },
  {
   "cell_type": "code",
   "execution_count": null,
   "id": "7ba40211",
   "metadata": {},
   "outputs": [],
   "source": []
  },
  {
   "cell_type": "code",
   "execution_count": 403,
   "id": "eb4b3133",
   "metadata": {},
   "outputs": [
    {
     "data": {
      "text/plain": [
       "['MSSubClass',\n",
       " 'MSZoning',\n",
       " 'Street',\n",
       " 'LotShape',\n",
       " 'LandContour',\n",
       " 'Utilities',\n",
       " 'LotConfig',\n",
       " 'LandSlope',\n",
       " 'Neighborhood',\n",
       " 'Condition1',\n",
       " 'Condition2',\n",
       " 'BldgType',\n",
       " 'HouseStyle',\n",
       " 'RoofStyle',\n",
       " 'RoofMatl',\n",
       " 'Exterior1st',\n",
       " 'Exterior2nd',\n",
       " 'ExterQual',\n",
       " 'ExterCond',\n",
       " 'Foundation',\n",
       " 'BsmtQual',\n",
       " 'BsmtCond',\n",
       " 'BsmtExposure',\n",
       " 'BsmtFinType1',\n",
       " 'BsmtFinType2',\n",
       " 'Heating',\n",
       " 'HeatingQC',\n",
       " 'CentralAir',\n",
       " 'Electrical',\n",
       " 'KitchenQual',\n",
       " 'Functional',\n",
       " 'GarageType',\n",
       " 'GarageFinish',\n",
       " 'GarageQual',\n",
       " 'GarageCond',\n",
       " 'PavedDrive',\n",
       " 'SaleType',\n",
       " 'SaleCondition']"
      ]
     },
     "execution_count": 403,
     "metadata": {},
     "output_type": "execute_result"
    }
   ],
   "source": [
    "cat_cols = [col for col in df_new.columns if df_new[col].dtype == \"O\"]\n",
    "cat_cols"
   ]
  },
  {
   "cell_type": "code",
   "execution_count": 422,
   "id": "cbf08070",
   "metadata": {},
   "outputs": [],
   "source": [
    "#There are ordinal data in the house.csv\n",
    "\n",
    "def ordinal_category(col):\n",
    "\n",
    "    \"\"\"\"\"\"\"\"\"\"\"\"\"\"\"\"\"\n",
    "    This function detects ordinal data and assigns them values between 0 - 5.\n",
    "    \n",
    "    input -> string/ object\n",
    "    output -> integer\n",
    "\n",
    "    \"\"\"\"\"\"\"\"\"\"\"\"\"\"\"\"\"\n",
    "    \n",
    "    if col.isin([\"Fa\", \"TA\",\" Gd\", \"Ex\"]).any():\n",
    "        return col.replace({\"Fa\":2, \"TA\" : 3, \"Gd\" : 4, \"Ex\" : 5, \"Po\" : 1, \"None\" : 0})\n",
    "    else:\n",
    "        return col\n",
    "df_new[cat_cols] = df_new[cat_cols].apply(ordinal_category)"
   ]
  },
  {
   "cell_type": "code",
   "execution_count": 406,
   "id": "a4f048a4",
   "metadata": {},
   "outputs": [
    {
     "data": {
      "text/plain": [
       "GarageCond\n",
       "3    1326\n",
       "0      81\n",
       "2      35\n",
       "4       9\n",
       "1       7\n",
       "5       2\n",
       "Name: count, dtype: int64"
      ]
     },
     "execution_count": 406,
     "metadata": {},
     "output_type": "execute_result"
    }
   ],
   "source": [
    "# Check data.\n",
    "\n",
    "df_new.GarageCond.value_counts()"
   ]
  },
  {
   "cell_type": "code",
   "execution_count": 426,
   "id": "9cfc7b18",
   "metadata": {
    "scrolled": true
   },
   "outputs": [
    {
     "data": {
      "text/plain": [
       "GarageQual\n",
       "3        1311\n",
       "0          81\n",
       "2          48\n",
       "Other      20\n",
       "Name: count, dtype: int64"
      ]
     },
     "execution_count": 426,
     "metadata": {},
     "output_type": "execute_result"
    }
   ],
   "source": [
    "# Check data.\n",
    "\n",
    "df_new.GarageQual.value_counts()"
   ]
  },
  {
   "cell_type": "code",
   "execution_count": 408,
   "id": "9e889914",
   "metadata": {},
   "outputs": [
    {
     "name": "stdout",
     "output_type": "stream",
     "text": [
      "(1460, 228)\n"
     ]
    },
    {
     "data": {
      "text/html": [
       "<div>\n",
       "<style scoped>\n",
       "    .dataframe tbody tr th:only-of-type {\n",
       "        vertical-align: middle;\n",
       "    }\n",
       "\n",
       "    .dataframe tbody tr th {\n",
       "        vertical-align: top;\n",
       "    }\n",
       "\n",
       "    .dataframe thead th {\n",
       "        text-align: right;\n",
       "    }\n",
       "</style>\n",
       "<table border=\"1\" class=\"dataframe\">\n",
       "  <thead>\n",
       "    <tr style=\"text-align: right;\">\n",
       "      <th></th>\n",
       "      <th>r2 mean</th>\n",
       "      <th>r2 std</th>\n",
       "      <th>r2 test</th>\n",
       "    </tr>\n",
       "  </thead>\n",
       "  <tbody>\n",
       "    <tr>\n",
       "      <th>Without NA</th>\n",
       "      <td>0.548538</td>\n",
       "      <td>0.568624</td>\n",
       "      <td>0.373218</td>\n",
       "    </tr>\n",
       "    <tr>\n",
       "      <th>Fill None</th>\n",
       "      <td>0.591975</td>\n",
       "      <td>0.416633</td>\n",
       "      <td>0.642582</td>\n",
       "    </tr>\n",
       "    <tr>\n",
       "      <th>Ordinal Value Model</th>\n",
       "      <td>0.598759</td>\n",
       "      <td>0.384457</td>\n",
       "      <td>0.653746</td>\n",
       "    </tr>\n",
       "  </tbody>\n",
       "</table>\n",
       "</div>"
      ],
      "text/plain": [
       "                      r2 mean    r2 std   r2 test\n",
       "Without NA           0.548538  0.568624  0.373218\n",
       "Fill None            0.591975  0.416633  0.642582\n",
       "Ordinal Value Model  0.598759  0.384457  0.653746"
      ]
     },
     "execution_count": 408,
     "metadata": {},
     "output_type": "execute_result"
    }
   ],
   "source": [
    "# Reanalysis after ordinal data transformation.\n",
    "\n",
    "from sklearn.model_selection import cross_val_score\n",
    "df_new_dummy = pd.get_dummies(df_new, drop_first = True)\n",
    "print(df_new_dummy.shape)\n",
    "\n",
    "X = df_new_dummy.drop(\"SalePrice\", axis = 1)\n",
    "y = df_new_dummy[\"SalePrice\"]\n",
    "\n",
    "X_train, X_test, y_train, y_test = train_test_split(X, y, test_size = 0.2,\n",
    "                                                    random_state=42)\n",
    "\n",
    "\n",
    "scores = cross_val_score(mdl, X_train, y_train, cv = 10)\n",
    "mdl = LinearRegression()\n",
    "mdl.fit(X_train , y_train)\n",
    "ypred = mdl.predict(X_test)\n",
    "\n",
    "\n",
    "results.loc[\"Ordinal Value Model\"] = [scores.mean(), scores.std(), r2_score(y_test, ypred)]\n",
    "results\n",
    "\n"
   ]
  },
  {
   "cell_type": "code",
   "execution_count": 409,
   "id": "d6318ae3",
   "metadata": {},
   "outputs": [
    {
     "data": {
      "text/plain": [
       "MSSubClass\n",
       "20     536\n",
       "60     299\n",
       "50     144\n",
       "120     87\n",
       "30      69\n",
       "160     63\n",
       "70      60\n",
       "80      58\n",
       "90      52\n",
       "190     30\n",
       "85      20\n",
       "75      16\n",
       "45      12\n",
       "180     10\n",
       "40       4\n",
       "Name: count, dtype: int64"
      ]
     },
     "execution_count": 409,
     "metadata": {},
     "output_type": "execute_result"
    }
   ],
   "source": [
    "df_new.MSSubClass.value_counts()"
   ]
  },
  {
   "cell_type": "code",
   "execution_count": 410,
   "id": "474e54b6",
   "metadata": {},
   "outputs": [
    {
     "data": {
      "text/plain": [
       "MSSubClass\n",
       "20     0.367123\n",
       "60     0.204795\n",
       "50     0.098630\n",
       "120    0.059589\n",
       "30     0.047260\n",
       "160    0.043151\n",
       "70     0.041096\n",
       "80     0.039726\n",
       "90     0.035616\n",
       "190    0.020548\n",
       "85     0.013699\n",
       "75     0.010959\n",
       "45     0.008219\n",
       "180    0.006849\n",
       "40     0.002740\n",
       "Name: count, dtype: float64"
      ]
     },
     "execution_count": 410,
     "metadata": {},
     "output_type": "execute_result"
    }
   ],
   "source": [
    "category_percent = df_new.MSSubClass.value_counts() / len(df_new)\n",
    "category_percent"
   ]
  },
  {
   "cell_type": "code",
   "execution_count": 425,
   "id": "7066d382",
   "metadata": {},
   "outputs": [],
   "source": [
    "\n",
    "def merge_category(col):\n",
    "    \n",
    "\"\"\"\"\"\"\"\"\"\"\"\"\"\"\"\"\"\"\"\"\"\"\n",
    "\n",
    "This function examines the object type filling and combines data less than 0.01.\n",
    "\n",
    "input -> string/ object\n",
    "output -> string /object\n",
    "\n",
    "\n",
    "\"\"\"\"\"\"\"\"\"\"\"\"\"\"\"\"\"\"\"\"\"\"\n",
    "    \n",
    "    category_percent = col.value_counts() / len(col)\n",
    "    category = list(category_percent[category_percent < 0.01].index)\n",
    "    if len(category) > 1:\n",
    "        return col.replace(category, \"Other\")\n",
    "\n",
    "    return col\n",
    "\n",
    "df_new[cat_cols] = df_new[cat_cols].apply(merge_category)"
   ]
  },
  {
   "cell_type": "code",
   "execution_count": 418,
   "id": "8dacc6e8",
   "metadata": {},
   "outputs": [
    {
     "name": "stdout",
     "output_type": "stream",
     "text": [
      "(1460, 186)\n"
     ]
    },
    {
     "data": {
      "text/html": [
       "<div>\n",
       "<style scoped>\n",
       "    .dataframe tbody tr th:only-of-type {\n",
       "        vertical-align: middle;\n",
       "    }\n",
       "\n",
       "    .dataframe tbody tr th {\n",
       "        vertical-align: top;\n",
       "    }\n",
       "\n",
       "    .dataframe thead th {\n",
       "        text-align: right;\n",
       "    }\n",
       "</style>\n",
       "<table border=\"1\" class=\"dataframe\">\n",
       "  <thead>\n",
       "    <tr style=\"text-align: right;\">\n",
       "      <th></th>\n",
       "      <th>r2 mean</th>\n",
       "      <th>r2 std</th>\n",
       "      <th>r2 test</th>\n",
       "    </tr>\n",
       "  </thead>\n",
       "  <tbody>\n",
       "    <tr>\n",
       "      <th>Without NA</th>\n",
       "      <td>0.548538</td>\n",
       "      <td>0.568624</td>\n",
       "      <td>0.373218</td>\n",
       "    </tr>\n",
       "    <tr>\n",
       "      <th>Fill None</th>\n",
       "      <td>0.591975</td>\n",
       "      <td>0.416633</td>\n",
       "      <td>0.642582</td>\n",
       "    </tr>\n",
       "    <tr>\n",
       "      <th>Ordinal Value Model</th>\n",
       "      <td>0.598759</td>\n",
       "      <td>0.384457</td>\n",
       "      <td>0.653746</td>\n",
       "    </tr>\n",
       "    <tr>\n",
       "      <th>other value model</th>\n",
       "      <td>0.786433</td>\n",
       "      <td>0.147645</td>\n",
       "      <td>0.862914</td>\n",
       "    </tr>\n",
       "  </tbody>\n",
       "</table>\n",
       "</div>"
      ],
      "text/plain": [
       "                      r2 mean    r2 std   r2 test\n",
       "Without NA           0.548538  0.568624  0.373218\n",
       "Fill None            0.591975  0.416633  0.642582\n",
       "Ordinal Value Model  0.598759  0.384457  0.653746\n",
       "other value model    0.786433  0.147645  0.862914"
      ]
     },
     "execution_count": 418,
     "metadata": {},
     "output_type": "execute_result"
    }
   ],
   "source": [
    "# Analyze again after combining the data.\n",
    "\n",
    "df_new_dummy = pd.get_dummies(df_new, drop_first = True)\n",
    "print(df_new_dummy.shape)\n",
    "\n",
    "X = df_new_dummy.drop(\"SalePrice\", axis = 1)\n",
    "y = df_new_dummy[\"SalePrice\"]\n",
    "\n",
    "X_train, X_test, y_train, y_test = train_test_split(X, y, test_size = 0.2,\n",
    "                                                    random_state=42)\n",
    "\n",
    "scores = cross_val_score(mdl, X_train, y_train, cv = 10)\n",
    "\n",
    "mdl = LinearRegression()\n",
    "\n",
    "mdl.fit(X_train, y_train)\n",
    "ypred = mdl.predict(X_test)\n",
    "\n",
    "results.loc[\"other value model\"] = [scores.mean(), scores.std(), r2_score(y_test, ypred)]\n",
    "results"
   ]
  },
  {
   "cell_type": "code",
   "execution_count": null,
   "id": "567d5a89",
   "metadata": {},
   "outputs": [],
   "source": []
  },
  {
   "cell_type": "code",
   "execution_count": null,
   "id": "0600ccb1",
   "metadata": {},
   "outputs": [],
   "source": []
  }
 ],
 "metadata": {
  "kernelspec": {
   "display_name": "Python 3 (ipykernel)",
   "language": "python",
   "name": "python3"
  },
  "language_info": {
   "codemirror_mode": {
    "name": "ipython",
    "version": 3
   },
   "file_extension": ".py",
   "mimetype": "text/x-python",
   "name": "python",
   "nbconvert_exporter": "python",
   "pygments_lexer": "ipython3",
   "version": "3.11.5"
  }
 },
 "nbformat": 4,
 "nbformat_minor": 5
}
