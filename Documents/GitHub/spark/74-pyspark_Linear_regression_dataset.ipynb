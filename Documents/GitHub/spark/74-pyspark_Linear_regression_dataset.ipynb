{
 "cells": [
  {
   "cell_type": "code",
   "execution_count": 3,
   "id": "c1cf820a",
   "metadata": {},
   "outputs": [
    {
     "data": {
      "text/html": [
       "\n",
       "            <div>\n",
       "                <p><b>SparkSession - in-memory</b></p>\n",
       "                \n",
       "        <div>\n",
       "            <p><b>SparkContext</b></p>\n",
       "\n",
       "            <p><a href=\"http://HAMZAEFE:4042\">Spark UI</a></p>\n",
       "\n",
       "            <dl>\n",
       "              <dt>Version</dt>\n",
       "                <dd><code>v3.5.1</code></dd>\n",
       "              <dt>Master</dt>\n",
       "                <dd><code>local[*]</code></dd>\n",
       "              <dt>AppName</dt>\n",
       "                <dd><code>linear_app</code></dd>\n",
       "            </dl>\n",
       "        </div>\n",
       "        \n",
       "            </div>\n",
       "        "
      ],
      "text/plain": [
       "<pyspark.sql.session.SparkSession at 0x20be9ea4c50>"
      ]
     },
     "execution_count": 3,
     "metadata": {},
     "output_type": "execute_result"
    }
   ],
   "source": [
    "\n",
    "import pyspark\n",
    "from pyspark.sql import SparkSession\n",
    "\n",
    "# Importing reqıired modules\n",
    "\n",
    "spark = SparkSession.builder.appName(\"linear_app\").getOrCreate()\n",
    "\n",
    "# Creating a SparkSession named \"linear_app\"\n",
    "# SparkSession is the entry point to Spark functionality in PySpark.\n",
    "\n",
    "spark"
   ]
  },
  {
   "cell_type": "code",
   "execution_count": 19,
   "id": "2824e73f",
   "metadata": {},
   "outputs": [
    {
     "name": "stdout",
     "output_type": "stream",
     "text": [
      "+-----+-----+-----+-----+-----+------+\n",
      "|var_1|var_2|var_3|var_4|var_5|output|\n",
      "+-----+-----+-----+-----+-----+------+\n",
      "|734  |688  |81   |0.328|0.259|0.418 |\n",
      "|700  |600  |94   |0.32 |0.247|0.389 |\n",
      "|712  |705  |93   |0.311|0.247|0.417 |\n",
      "|734  |806  |69   |0.315|0.26 |0.415 |\n",
      "|613  |759  |61   |0.302|0.24 |0.378 |\n",
      "+-----+-----+-----+-----+-----+------+\n",
      "only showing top 5 rows\n",
      "\n"
     ]
    }
   ],
   "source": [
    "# Reading the CSV file into a DataFrame\n",
    "\n",
    "df = spark.read.csv(\"Linear_regression_dataset.csv\", header = True, inferSchema = True)\n",
    "\n",
    "# Displaying the first 5 rows of the DataFrame\n",
    "df.show(5, False)"
   ]
  },
  {
   "cell_type": "code",
   "execution_count": 20,
   "id": "b24b51f3",
   "metadata": {},
   "outputs": [],
   "source": [
    "\n",
    "from pyspark.ml.linalg import Vector\n",
    "from pyspark.ml.feature import VectorAssembler\n",
    "\n",
    "# Importing required modules for vectorizasyon operations.\n",
    "\n",
    "# Drop the target column\n",
    "features = df.drop(\"output\")\n",
    "#features.columns"
   ]
  },
  {
   "cell_type": "code",
   "execution_count": 21,
   "id": "2a2990a6",
   "metadata": {},
   "outputs": [
    {
     "name": "stdout",
     "output_type": "stream",
     "text": [
      "+-----+-----+-----+-----+-----+------+------------------------------+\n",
      "|var_1|var_2|var_3|var_4|var_5|output|features                      |\n",
      "+-----+-----+-----+-----+-----+------+------------------------------+\n",
      "|734  |688  |81   |0.328|0.259|0.418 |[734.0,688.0,81.0,0.328,0.259]|\n",
      "|700  |600  |94   |0.32 |0.247|0.389 |[700.0,600.0,94.0,0.32,0.247] |\n",
      "|712  |705  |93   |0.311|0.247|0.417 |[712.0,705.0,93.0,0.311,0.247]|\n",
      "|734  |806  |69   |0.315|0.26 |0.415 |[734.0,806.0,69.0,0.315,0.26] |\n",
      "|613  |759  |61   |0.302|0.24 |0.378 |[613.0,759.0,61.0,0.302,0.24] |\n",
      "+-----+-----+-----+-----+-----+------+------------------------------+\n",
      "only showing top 5 rows\n",
      "\n"
     ]
    }
   ],
   "source": [
    "\n",
    "# Assemble the features into a single feature vector column.\n",
    "vector_assembler = VectorAssembler(inputCols = features.columns, outputCol = \"features\")\n",
    "\n",
    "features_df = vector_assembler.transform(df)\n",
    "\n",
    "# Display the first 5 rows of the DataFrame\n",
    "features_df.show(5, False)"
   ]
  },
  {
   "cell_type": "code",
   "execution_count": 22,
   "id": "9d6ae503",
   "metadata": {},
   "outputs": [
    {
     "name": "stdout",
     "output_type": "stream",
     "text": [
      "root\n",
      " |-- var_1: integer (nullable = true)\n",
      " |-- var_2: integer (nullable = true)\n",
      " |-- var_3: integer (nullable = true)\n",
      " |-- var_4: double (nullable = true)\n",
      " |-- var_5: double (nullable = true)\n",
      " |-- output: double (nullable = true)\n",
      " |-- features: vector (nullable = true)\n",
      "\n"
     ]
    }
   ],
   "source": [
    "# Print the schema of the DataFrame\n",
    "\n",
    "features_df.printSchema()"
   ]
  },
  {
   "cell_type": "code",
   "execution_count": 23,
   "id": "1b6f85fa",
   "metadata": {},
   "outputs": [
    {
     "name": "stdout",
     "output_type": "stream",
     "text": [
      "+------------------------------+------+\n",
      "|features                      |output|\n",
      "+------------------------------+------+\n",
      "|[734.0,688.0,81.0,0.328,0.259]|0.418 |\n",
      "|[700.0,600.0,94.0,0.32,0.247] |0.389 |\n",
      "|[712.0,705.0,93.0,0.311,0.247]|0.417 |\n",
      "|[734.0,806.0,69.0,0.315,0.26] |0.415 |\n",
      "|[613.0,759.0,61.0,0.302,0.24] |0.378 |\n",
      "+------------------------------+------+\n",
      "only showing top 5 rows\n",
      "\n"
     ]
    }
   ],
   "source": [
    "# Selecting the \"features\" and \"output\" columns from the features DataFrame\n",
    "# Creating a new DataFrame named model_df\n",
    "\n",
    "model_df = features_df.select(\"features\", \"output\")\n",
    "\n",
    "# Displaying the first 5 rows of the DataFrame\n",
    "model_df.show(5, False)"
   ]
  },
  {
   "cell_type": "code",
   "execution_count": 25,
   "id": "40564360",
   "metadata": {},
   "outputs": [],
   "source": [
    "# Splitting the model DataFrame into training and testing datasets\n",
    "\n",
    "train_df, test_df = model_df.randomSplit([0.7, 0.3])"
   ]
  },
  {
   "cell_type": "code",
   "execution_count": 26,
   "id": "121e083e",
   "metadata": {},
   "outputs": [
    {
     "data": {
      "text/plain": [
       "866"
      ]
     },
     "execution_count": 26,
     "metadata": {},
     "output_type": "execute_result"
    }
   ],
   "source": [
    "# Counting the number of rows in the train DataFrame\n",
    "\n",
    "train_df.count()"
   ]
  },
  {
   "cell_type": "code",
   "execution_count": 27,
   "id": "6c82d715",
   "metadata": {},
   "outputs": [
    {
     "data": {
      "text/plain": [
       "366"
      ]
     },
     "execution_count": 27,
     "metadata": {},
     "output_type": "execute_result"
    }
   ],
   "source": [
    "# Counting the number of rows in the test DataFrame\n",
    "\n",
    "test_df.count()"
   ]
  },
  {
   "cell_type": "code",
   "execution_count": 28,
   "id": "8adbc45a",
   "metadata": {},
   "outputs": [
    {
     "name": "stdout",
     "output_type": "stream",
     "text": [
      "0.17558729802057205\n",
      "[0.00033543706932609793,5.911525748678716e-05,0.00023829620124718822,-0.6403899225466363,0.4994986199998822]\n"
     ]
    }
   ],
   "source": [
    "from pyspark.ml.regression import LinearRegression\n",
    "\n",
    "# Defining a Linear Regression model with specified feature and label columns\n",
    "lin_reg = LinearRegression(featuresCol = \"features\", labelCol = \"output\")\n",
    "\n",
    "\n",
    "# Training the Linear Regression model on the training dataset\n",
    "lin_model = lin_reg.fit(train_df) \n",
    "\n",
    "# Printing the intercept of the trained model\n",
    "print(lin_model.intercept)\n",
    "\n",
    "# Printing the coefficients of the trained model\n",
    "print(lin_model.coefficients)"
   ]
  },
  {
   "cell_type": "code",
   "execution_count": 29,
   "id": "74eb7453",
   "metadata": {},
   "outputs": [
    {
     "name": "stdout",
     "output_type": "stream",
     "text": [
      "+------------------------------+------+-------------------+\n",
      "|features                      |output|prediction         |\n",
      "+------------------------------+------+-------------------+\n",
      "|[468.0,746.0,52.0,0.285,0.225]|0.329 |0.31893929258936504|\n",
      "|[470.0,509.0,76.0,0.289,0.23] |0.319 |0.31125489294339415|\n",
      "|[486.0,610.0,61.0,0.293,0.233]|0.332 |0.3179550202098824 |\n",
      "|[524.0,665.0,65.0,0.287,0.224]|0.336 |0.3342530047663171 |\n",
      "|[531.0,734.0,55.0,0.291,0.235]|0.34  |0.3412299801355283 |\n",
      "+------------------------------+------+-------------------+\n",
      "only showing top 5 rows\n",
      "\n"
     ]
    }
   ],
   "source": [
    "# Evaluating the trained linear regression model on the test dataset\n",
    "\n",
    "test_pred = lin_model.evaluate(test_df)\n",
    "\n",
    "# Displaying the first 5 predictions from the evaluation DataFrame\n",
    "test_pred.predictions.show(5, False)"
   ]
  },
  {
   "cell_type": "code",
   "execution_count": 39,
   "id": "8e611587",
   "metadata": {},
   "outputs": [
    {
     "name": "stdout",
     "output_type": "stream",
     "text": [
      "R-squared (R^2) value: 0.8585967053005741\n"
     ]
    }
   ],
   "source": [
    "# Printing the R-squared (R^2) value of the linear regression model on the test dataset\n",
    "\n",
    "print(\"R-squared (R^2) value:\", test_pred.r2)"
   ]
  },
  {
   "cell_type": "code",
   "execution_count": 40,
   "id": "78b16f65",
   "metadata": {},
   "outputs": [
    {
     "name": "stdout",
     "output_type": "stream",
     "text": [
      "Mean Squared Error: 0.00014411179122737384\n"
     ]
    }
   ],
   "source": [
    "# Printing the mean squared error of the linear regression model on the test dataset\n",
    "\n",
    "print(\"Mean Squared Error:\", test_pred.meanSquaredError)"
   ]
  },
  {
   "cell_type": "code",
   "execution_count": 41,
   "id": "cda83e7b",
   "metadata": {},
   "outputs": [
    {
     "name": "stdout",
     "output_type": "stream",
     "text": [
      "Mean Absolute Error: 0.009375567695583134\n"
     ]
    }
   ],
   "source": [
    "# Printing the mean absolute error of the linear regression model on the test dataset\n",
    "\n",
    "print(\"Mean Absolute Error:\", test_pred.meanAbsoluteError)"
   ]
  },
  {
   "cell_type": "code",
   "execution_count": 42,
   "id": "1fdf3adf",
   "metadata": {},
   "outputs": [
    {
     "name": "stdout",
     "output_type": "stream",
     "text": [
      "R-squared (R^2) value on training dataset: 0.8729995516932249\n"
     ]
    }
   ],
   "source": [
    "# Evaluating the trained linear regression model on the training dataset\n",
    "train_pred = lin_model.evaluate(train_df)\n",
    "\n",
    "# Extracting the R-squared (R^2) value from the evaluation results\n",
    "train_r2 = train_pred.r2\n",
    "\n",
    "# Printing the R-squared (R^2) value of the linear regression model on the training dataset\n",
    "print(\"R-squared (R^2) value on training dataset:\", train_r2)"
   ]
  },
  {
   "cell_type": "code",
   "execution_count": null,
   "id": "6030f501",
   "metadata": {},
   "outputs": [],
   "source": []
  },
  {
   "cell_type": "code",
   "execution_count": 18,
   "id": "0f83b8e5",
   "metadata": {},
   "outputs": [
    {
     "name": "stdout",
     "output_type": "stream",
     "text": [
      "0.872530015076529\n"
     ]
    }
   ],
   "source": []
  },
  {
   "cell_type": "code",
   "execution_count": null,
   "id": "e1df9ebd",
   "metadata": {},
   "outputs": [],
   "source": []
  }
 ],
 "metadata": {
  "kernelspec": {
   "display_name": "Python 3 (ipykernel)",
   "language": "python",
   "name": "python3"
  },
  "language_info": {
   "codemirror_mode": {
    "name": "ipython",
    "version": 3
   },
   "file_extension": ".py",
   "mimetype": "text/x-python",
   "name": "python",
   "nbconvert_exporter": "python",
   "pygments_lexer": "ipython3",
   "version": "3.11.5"
  }
 },
 "nbformat": 4,
 "nbformat_minor": 5
}
